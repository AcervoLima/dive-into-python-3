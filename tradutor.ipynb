{
 "cells": [
  {
   "cell_type": "code",
   "execution_count": 1,
   "metadata": {},
   "outputs": [],
   "source": [
    "from selenium import webdriver"
   ]
  },
  {
   "cell_type": "code",
   "execution_count": 2,
   "metadata": {},
   "outputs": [],
   "source": [
    "from bs4 import BeautifulSoup"
   ]
  },
  {
   "cell_type": "code",
   "execution_count": 3,
   "metadata": {},
   "outputs": [],
   "source": [
    "driver = webdriver.Firefox()"
   ]
  },
  {
   "cell_type": "code",
   "execution_count": 4,
   "metadata": {},
   "outputs": [],
   "source": [
    "# url da página que será traduzida\n",
    "url = 'https://diveintopython3.problemsolving.io/advanced-iterators.html'"
   ]
  },
  {
   "cell_type": "code",
   "execution_count": 5,
   "metadata": {},
   "outputs": [],
   "source": [
    "driver.get(url)"
   ]
  },
  {
   "cell_type": "code",
   "execution_count": 6,
   "metadata": {},
   "outputs": [],
   "source": [
    "# script javascript para adicionar o google tradutor a página\n",
    "função_js = '''\n",
    "function googleTranslateElementInit() {\n",
    "  new google.translate.TranslateElement({pageLanguage: 'en'}, 'google_translate_element');\n",
    "}\n",
    "'''\n",
    "code_js = f'''\n",
    "var node1 = document.createElement(\"div\");\n",
    "node1.setAttribute(\"id\", \"google_translate_element\");\n",
    "document.getElementById(\"toc\").appendChild(node1);\n",
    "\n",
    "var node2 = document.createElement(\"script\");\n",
    "node2.setAttribute(\"type\", \"text/javascript\");\n",
    "node2.innerHTML = {função_js}\n",
    "document.getElementById(\"toc\").appendChild(node2);\n",
    "\n",
    "var node3 = document.createElement(\"script\");\n",
    "node3.setAttribute(\"type\", \"text/javascript\");\n",
    "node3.setAttribute(\"src\", \"https://translate.google.com/translate_a/element.js?cb=googleTranslateElementInit\");\n",
    "document.getElementById(\"toc\").appendChild(node3);\n",
    "'''\n",
    "\n",
    "driver.execute_script(code_js)"
   ]
  },
  {
   "cell_type": "markdown",
   "metadata": {},
   "source": [
    "# Scroll"
   ]
  },
  {
   "cell_type": "code",
   "execution_count": 7,
   "metadata": {},
   "outputs": [],
   "source": [
    "doc_html = driver.page_source"
   ]
  },
  {
   "cell_type": "code",
   "execution_count": 8,
   "metadata": {},
   "outputs": [],
   "source": [
    "soup = BeautifulSoup(doc_html, 'lxml')"
   ]
  },
  {
   "cell_type": "code",
   "execution_count": 9,
   "metadata": {},
   "outputs": [],
   "source": [
    "div_principal = soup.find('body')"
   ]
  },
  {
   "cell_type": "code",
   "execution_count": 10,
   "metadata": {},
   "outputs": [],
   "source": [
    "for tag_font in div_principal.find_all('font'):\n",
    "    tag_font.unwrap()"
   ]
  },
  {
   "cell_type": "code",
   "execution_count": 11,
   "metadata": {},
   "outputs": [],
   "source": [
    "for tag_a in div_principal.find_all('a'):\n",
    "    tag_a['style'] = \"color: #b44582;\""
   ]
  },
  {
   "cell_type": "markdown",
   "metadata": {},
   "source": [
    "# Define o nome do arquivo"
   ]
  },
  {
   "cell_type": "code",
   "execution_count": 12,
   "metadata": {},
   "outputs": [],
   "source": [
    "titulo_pag = div_principal.h1.text"
   ]
  },
  {
   "cell_type": "markdown",
   "metadata": {},
   "source": [
    "# Cria documento html"
   ]
  },
  {
   "cell_type": "code",
   "execution_count": 13,
   "metadata": {},
   "outputs": [],
   "source": [
    "html = f'''\n",
    "<!DOCTYPE html>\n",
    "<html lang=\"pt-BR\">\n",
    "<head>\n",
    "    <meta charset=\"UTF-8\">\n",
    "    <meta http-equiv=\"X-UA-Compatible\" content=\"IE=edge\">\n",
    "    <meta name=\"viewport\" content=\"width=device-width, initial-scale=1.0\">\n",
    "    <title>{titulo_pag}</title>\n",
    "    <link rel=\"stylesheet\" href=\"css/style.css\">\n",
    "    <link rel=\"stylesheet\" href=\"https://cdnjs.cloudflare.com/ajax/libs/highlight.js/10.7.2/styles/default.min.css\">\n",
    "    <script src=\"https://cdnjs.cloudflare.com/ajax/libs/highlight.js/10.7.2/highlight.min.js\"></script>\n",
    "    <script>hljs.highlightAll();</script>\n",
    "</head>\n",
    "<body>\n",
    "\n",
    "$conteudo\n",
    "\n",
    "$creditos\n",
    "\n",
    "</body>\n",
    "</html>\n",
    "'''\n",
    "\n",
    "creditos = f\"\"\"\n",
    "<p>\n",
    "     Esse artigo é uma tradução de um capítulo do livro \"Dive Into Python 3\" escrito por Mark Pilgrim. Você pode ler o livro desde o início em português clicando <a href=\"https://www.acervolima.com.br/2021/05/o-que-ha-de-novo-em-dive-into-python-3.html\">aqui</a>.\n",
    "</p>\n",
    "<p>\n",
    "    Traduzido por Acervo Lima. O original pode ser acessado <a href=\"{url}\" target=\"_blank\">aqui</a>.\n",
    "</p>\n",
    "<h2>Licença</h2>\n",
    "<ul>\n",
    "    <li><a href=\"http://creativecommons.org/licenses/by-sa/3.0/\" target=\"_blank\">Creative Commons Attribution Share-Alike</a></li>\n",
    "</ul>\n",
    "\n",
    "<div class=\"prev-next-div\">\n",
    "    <a class=\"prev\" href=\"#\">&lt;&lt; Anterior</a>\n",
    "    <a class=\"next\" href=\"#\">Próximo &gt;&gt;</a>\n",
    "</div>\n",
    "\n",
    "\"\"\"\n",
    "\n",
    "nome_arq = titulo_pag + '.html'\n",
    "\n",
    "arq = open(nome_arq, 'w', encoding='utf-8')\n",
    "texto = html.replace('$conteudo', str(div_principal))\n",
    "texto = texto.replace('$creditos', creditos)\n",
    "arq.write(texto)\n",
    "arq.close()"
   ]
  }
 ],
 "metadata": {
  "kernelspec": {
   "display_name": "Python 3",
   "language": "python",
   "name": "python3"
  },
  "language_info": {
   "codemirror_mode": {
    "name": "ipython",
    "version": 3
   },
   "file_extension": ".py",
   "mimetype": "text/x-python",
   "name": "python",
   "nbconvert_exporter": "python",
   "pygments_lexer": "ipython3",
   "version": "3.7.9"
  }
 },
 "nbformat": 4,
 "nbformat_minor": 4
}
